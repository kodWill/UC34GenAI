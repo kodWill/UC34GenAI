{
 "cells": [
  {
   "cell_type": "code",
   "execution_count": 1,
   "id": "ea1fc5e7-1de7-4b74-8947-15fc57fb3be0",
   "metadata": {},
   "outputs": [
    {
     "data": {
      "text/plain": [
       "[799, 882, 395, 292, 816]"
      ]
     },
     "execution_count": 1,
     "metadata": {},
     "output_type": "execute_result"
    }
   ],
   "source": [
    "import pyspark  \n",
    "\n",
    "sc = pyspark.SparkContext('local[*]') \n",
    "\n",
    "# do something to prove it works \n",
    "\n",
    "rdd = sc.parallelize(range(1000)) \n",
    "\n",
    "rdd.takeSample(False, 5) "
   ]
  },
  {
   "cell_type": "code",
   "execution_count": 2,
   "id": "0689c351-ca47-4983-a933-47f1269dccc8",
   "metadata": {},
   "outputs": [],
   "source": [
    "import pyspark\n",
    "from pyspark.sql import SparkSession\n",
    "\n",
    "spark = SparkSession.builder.master(\"local[1]\").appName(\"setup\").getOrCreate()"
   ]
  },
  {
   "cell_type": "code",
   "execution_count": 4,
   "id": "ddaf9844-ee97-4729-91bb-c73990589e73",
   "metadata": {},
   "outputs": [
    {
     "name": "stdout",
     "output_type": "stream",
     "text": [
      "499999\n"
     ]
    }
   ],
   "source": [
    "cleanme_df = spark.read.options(header='True', inferSchema='True', delimiter=',') \\\n",
    "     .csv(\"/home/jovyan/clean_me.csv\")\n",
    "print(cleanme_df.count())"
   ]
  }
 ],
 "metadata": {
  "kernelspec": {
   "display_name": "Python 3 (ipykernel)",
   "language": "python",
   "name": "python3"
  },
  "language_info": {
   "codemirror_mode": {
    "name": "ipython",
    "version": 3
   },
   "file_extension": ".py",
   "mimetype": "text/x-python",
   "name": "python",
   "nbconvert_exporter": "python",
   "pygments_lexer": "ipython3",
   "version": "3.11.5"
  }
 },
 "nbformat": 4,
 "nbformat_minor": 5
}
